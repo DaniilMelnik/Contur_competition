{
  "nbformat": 4,
  "nbformat_minor": 0,
  "metadata": {
    "colab": {
      "name": "Contur_test.ipynb",
      "provenance": [],
      "collapsed_sections": [],
      "toc_visible": true
    },
    "kernelspec": {
      "display_name": "Python 3",
      "language": "python",
      "name": "python3"
    },
    "language_info": {
      "codemirror_mode": {
        "name": "ipython",
        "version": 3
      },
      "file_extension": ".py",
      "mimetype": "text/x-python",
      "name": "python",
      "nbconvert_exporter": "python",
      "pygments_lexer": "ipython3",
      "version": "3.8.5"
    }
  },
  "cells": [
    {
      "cell_type": "code",
      "metadata": {
        "colab": {
          "base_uri": "https://localhost:8080/"
        },
        "id": "9_kpe0eFI_pV",
        "outputId": "8d6d560a-b78a-4b7e-dcb3-23d35790e8c2"
      },
      "source": [
        "from google.colab import drive\n",
        "drive.mount('/content/drive')"
      ],
      "execution_count": 1,
      "outputs": [
        {
          "output_type": "stream",
          "text": [
            "Drive already mounted at /content/drive; to attempt to forcibly remount, call drive.mount(\"/content/drive\", force_remount=True).\n"
          ],
          "name": "stdout"
        }
      ]
    },
    {
      "cell_type": "code",
      "metadata": {
        "id": "6FhprDfENhzr"
      },
      "source": [
        "import numpy as np\n",
        "import pandas as pd\n",
        "import matplotlib.pyplot as plt\n",
        "import re\n",
        "import csv\n",
        "\n",
        "from tensorflow.keras.layers import Dense, SimpleRNN, Input, Embedding, Flatten, LSTM, GRU, Bidirectional\n",
        "from tensorflow.keras.models import Sequential\n",
        "from tensorflow.keras.optimizers import Adam\n",
        "from tensorflow.keras.preprocessing.text import Tokenizer\n",
        "from tensorflow.keras.preprocessing.sequence import pad_sequences\n",
        "from tensorflow.keras.utils import to_categorical\n",
        "from sklearn.model_selection import train_test_split\n",
        "from keras.utils import plot_model"
      ],
      "execution_count": 1,
      "outputs": []
    },
    {
      "cell_type": "code",
      "metadata": {
        "id": "8iMXfugZInKg"
      },
      "source": [
        "TRAIN_DATASET_PATH = '/content/drive/MyDrive/Colab Notebooks/contur_test/train.txt'\n",
        "TEST_DATASET_PATH = '/content/drive/MyDrive/Colab Notebooks/contur_test/test.txt'\n",
        "RESULT_PATH = '/content/drive/MyDrive/Colab Notebooks/contur_test/result.txt'"
      ],
      "execution_count": 2,
      "outputs": []
    },
    {
      "cell_type": "code",
      "metadata": {
        "id": "heLxWwLtInKj"
      },
      "source": [
        "df_train = pd.read_csv(TRAIN_DATASET_PATH, sep='\\t', names=['name'], quoting=csv.QUOTE_NONE)"
      ],
      "execution_count": 4,
      "outputs": []
    },
    {
      "cell_type": "markdown",
      "metadata": {
        "id": "GLGydKfZszHs"
      },
      "source": [
        "## EDA"
      ]
    },
    {
      "cell_type": "markdown",
      "metadata": {
        "id": "KK-a_EgCLvuv"
      },
      "source": [
        "Разобъем наименования на слова.\n",
        "Используем в качестве разделителя ' ', '-' и '.'\n",
        "Разделим слова на 4 класса: \n",
        "\n",
        "0.   Все символы с большой буквы\n",
        "1.   Все символы с маленькой буквы\n",
        "2.   Слова начинающиеся с заглавной буквы\n",
        "3.   Смешанные регистры\n",
        "\n"
      ]
    },
    {
      "cell_type": "code",
      "metadata": {
        "id": "L6zyAMq_hhdN"
      },
      "source": [
        "df_train = pd.DataFrame(df_train['name'].str.split(r' *- *| +| *\\. *').explode())\n",
        "df_train['type'] = -1\n",
        "df_train = df_train.reset_index()\n",
        "df_train.replace({'name': r'[^A-Za-zА-Яа-я]+'}, {'name': ''}, regex=True, inplace=True)\n",
        "df_train.loc[df_train['name'].str.isupper(), 'type'] = 0\n",
        "df_train.loc[df_train['name'].str.islower(), 'type'] = 1\n",
        "df_train.loc[df_train['name'].str.istitle(), 'type'] = 2\n",
        "df_train.loc[(df_train['name'].str.isalpha()) & (df_train['type'] == -1), 'type'] = 3\n",
        "df_train = df_train.loc[~(df_train['name'] == '')]"
      ],
      "execution_count": 7,
      "outputs": []
    },
    {
      "cell_type": "code",
      "metadata": {
        "id": "k4YTADOhkdM7",
        "colab": {
          "base_uri": "https://localhost:8080/"
        },
        "outputId": "a5cf84cb-2a45-4336-eb81-538ab422f241"
      },
      "source": [
        "df_train['type'].value_counts()"
      ],
      "execution_count": 8,
      "outputs": [
        {
          "output_type": "execute_result",
          "data": {
            "text/plain": [
              "1    16141481\n",
              "2    11423745\n",
              "0     3362310\n",
              "3      398455\n",
              "Name: type, dtype: int64"
            ]
          },
          "metadata": {
            "tags": []
          },
          "execution_count": 8
        }
      ]
    },
    {
      "cell_type": "markdown",
      "metadata": {
        "id": "WlB4qhQ4M1Ag"
      },
      "source": [
        "Имеется дисбаланс классов, при этом смешанный регистр встречается реже всех"
      ]
    },
    {
      "cell_type": "markdown",
      "metadata": {
        "id": "yhhb48xnNpPS"
      },
      "source": [
        "Построим распределение слов по длинам"
      ]
    },
    {
      "cell_type": "code",
      "metadata": {
        "id": "so7XS2wcsPaJ",
        "colab": {
          "base_uri": "https://localhost:8080/",
          "height": 265
        },
        "outputId": "7348f5cf-b141-4f41-fa94-693abf97808e"
      },
      "source": [
        "plt.hist(list(map(len, df_train['name'])), log=True)\n",
        "plt.show()"
      ],
      "execution_count": 12,
      "outputs": [
        {
          "output_type": "display_data",
          "data": {
            "image/png": "[encoded data removed]",
            "text/plain": [
              "<Figure size 432x288 with 1 Axes>"
            ]
          },
          "metadata": {
            "tags": [],
            "needs_background": "light"
          }
        }
      ]
    },
    {
      "cell_type": "markdown",
      "metadata": {
        "id": "S10BS4dnsbtC"
      },
      "source": [
        "Слова в наименованиях длиной более 50 встречаются довольно редко, поэтому можно попробовать ограничить длину векторов 50 символами"
      ]
    },
    {
      "cell_type": "markdown",
      "metadata": {
        "id": "9r8UZgwMs_nd"
      },
      "source": [
        "## Предобработка данных для обучения"
      ]
    },
    {
      "cell_type": "code",
      "metadata": {
        "id": "pyqcipT_OVDC"
      },
      "source": [
        "class Data_pipeline:\n",
        "  def __init__(self):\n",
        "    self.tokenizer = None\n",
        "\n",
        "  def fit(self, df, max_word_len=50):\n",
        "    maxWordsCount = 60\n",
        "    self.tokenizer = Tokenizer(num_words=maxWordsCount, lower=True, char_level=True)\n",
        "    self.tokenizer.fit_on_texts(df_train['name'])\n",
        "\n",
        "    self.max_word_len = max_word_len\n",
        "\n",
        "  def transform_df(self, df):\n",
        "    df = pd.DataFrame(df['name'].str.split(r' *- *| +| *\\. *').explode())\n",
        "    df['type'] = -1\n",
        "    df = df.reset_index()\n",
        "\n",
        "    df.replace({'name': r'[^A-Za-zА-Яа-я\"]+'}, {'name': ''}, regex=True, inplace=True)\n",
        "    df.loc[df['name'].str.isupper(), 'type'] = 0\n",
        "    df.loc[df['name'].str.islower(), 'type'] = 1\n",
        "    df.loc[df['name'].str.istitle(), 'type'] = 2\n",
        "    df.loc[(df['name'].str.isalpha()) & (df['type'] == -1), 'type'] = 3\n",
        "    df = df.loc[~(df['name'] == '')]\n",
        "    return df, len(df)\n",
        "\n",
        "  def generate(self, df, batch_size):\n",
        "    X_batch = []\n",
        "    Y_batch = []\n",
        "    while True:\n",
        "      for line, answer in zip(df['name'], df['type']):\n",
        "        X_batch.append(line)\n",
        "        Y_batch.append(answer)\n",
        "\n",
        "        if len(X_batch) == batch_size:\n",
        "          yield pad_sequences(self.tokenizer.texts_to_sequences(X_batch), maxlen=self.max_word_len), to_categorical(Y_batch, num_classes=4, dtype='int32')\n",
        "          X_batch.clear()\n",
        "          Y_batch.clear()\n",
        "      \n",
        "  def transform(self, word):\n",
        "    return pad_sequences(np.array(self.tokenizer.texts_to_sequences(word)), maxlen=self.max_word_len)\n",
        "    "
      ],
      "execution_count": 3,
      "outputs": []
    },
    {
      "cell_type": "code",
      "metadata": {
        "id": "T02HTjO1Q8tp"
      },
      "source": [
        "df_train = pd.read_csv(TRAIN_DATASET_PATH, sep='\\t', names=['name'], quoting=csv.QUOTE_NONE)\n",
        "X_train, X_test = train_test_split(df_train, test_size=0.2, random_state=42)\n",
        "\n",
        "pipeline = Data_pipeline()\n",
        "pipeline.fit(X_train, max_word_len=50)\n",
        "\n",
        "X_train, train_len = pipeline.transform_df(X_train)\n",
        "X_test, test_len = pipeline.transform_df(X_test)"
      ],
      "execution_count": 4,
      "outputs": []
    },
    {
      "cell_type": "markdown",
      "metadata": {
        "id": "b3IHp-VLtFPs"
      },
      "source": [
        "## Обучение модели"
      ]
    },
    {
      "cell_type": "code",
      "metadata": {
        "colab": {
          "base_uri": "https://localhost:8080/"
        },
        "id": "l4yRcB4sVoeh",
        "outputId": "88eaed39-437a-463b-853a-281045e55e9d"
      },
      "source": [
        "model = Sequential()\n",
        "model.add(Embedding(60, 10, input_length=50,))\n",
        "model.add(Flatten())\n",
        "model.add(Dense(units=80, activation='relu'))\n",
        "model.add(Dense(4,  activation='softmax'))\n",
        "model.summary()\n",
        "model.compile(loss='categorical_crossentropy', metrics=['accuracy'], optimizer='adam')"
      ],
      "execution_count": 5,
      "outputs": [
        {
          "output_type": "stream",
          "text": [
            "Model: \"sequential\"\n",
            "_________________________________________________________________\n",
            "Layer (type)                 Output Shape              Param #   \n",
            "=================================================================\n",
            "embedding (Embedding)        (None, 50, 10)            600       \n",
            "_________________________________________________________________\n",
            "flatten (Flatten)            (None, 500)               0         \n",
            "_________________________________________________________________\n",
            "dense (Dense)                (None, 80)                40080     \n",
            "_________________________________________________________________\n",
            "dense_1 (Dense)              (None, 4)                 324       \n",
            "=================================================================\n",
            "Total params: 41,004\n",
            "Trainable params: 41,004\n",
            "Non-trainable params: 0\n",
            "_________________________________________________________________\n"
          ],
          "name": "stdout"
        }
      ]
    },
    {
      "cell_type": "code",
      "metadata": {
        "colab": {
          "base_uri": "https://localhost:8080/"
        },
        "id": "LQnRJCoyVxY7",
        "outputId": "18882cdf-b434-41a0-b83c-4ca4fe84c4db"
      },
      "source": [
        "batch_size = 5000\n",
        "his = model.fit_generator(pipeline.generate(X_train, batch_size), \n",
        "                          steps_per_epoch = train_len // batch_size,\n",
        "                          epochs=8,\n",
        "                          validation_data = pipeline.generate(X_test, batch_size),\n",
        "                          validation_steps = test_len // batch_size\n",
        "                          )"
      ],
      "execution_count": 6,
      "outputs": [
        {
          "output_type": "stream",
          "text": [
            "/usr/local/lib/python3.7/dist-packages/tensorflow/python/keras/engine/training.py:1844: UserWarning: `Model.fit_generator` is deprecated and will be removed in a future version. Please use `Model.fit`, which supports generators.\n",
            "  warnings.warn('`Model.fit_generator` is deprecated and '\n"
          ],
          "name": "stderr"
        },
        {
          "output_type": "stream",
          "text": [
            "Epoch 1/8\n",
            "5061/5061 [==============================] - 524s 103ms/step - loss: 0.4588 - accuracy: 0.8211 - val_loss: 0.3393 - val_accuracy: 0.8727\n",
            "Epoch 2/8\n",
            "5061/5061 [==============================] - 530s 105ms/step - loss: 0.3364 - accuracy: 0.8735 - val_loss: 0.3284 - val_accuracy: 0.8770\n",
            "Epoch 3/8\n",
            "5061/5061 [==============================] - 529s 105ms/step - loss: 0.3282 - accuracy: 0.8766 - val_loss: 0.3243 - val_accuracy: 0.8784\n",
            "Epoch 4/8\n",
            "5061/5061 [==============================] - 489s 97ms/step - loss: 0.3243 - accuracy: 0.8782 - val_loss: 0.3227 - val_accuracy: 0.8783\n",
            "Epoch 5/8\n",
            "5061/5061 [==============================] - 488s 97ms/step - loss: 0.3220 - accuracy: 0.8790 - val_loss: 0.3207 - val_accuracy: 0.8796\n",
            "Epoch 6/8\n",
            "5061/5061 [==============================] - 493s 98ms/step - loss: 0.3205 - accuracy: 0.8795 - val_loss: 0.3204 - val_accuracy: 0.8791\n",
            "Epoch 7/8\n",
            "5061/5061 [==============================] - 501s 99ms/step - loss: 0.3195 - accuracy: 0.8799 - val_loss: 0.3202 - val_accuracy: 0.8792\n",
            "Epoch 8/8\n",
            "5061/5061 [==============================] - 502s 99ms/step - loss: 0.3186 - accuracy: 0.8802 - val_loss: 0.3192 - val_accuracy: 0.8797\n"
          ],
          "name": "stdout"
        }
      ]
    },
    {
      "cell_type": "code",
      "metadata": {
        "colab": {
          "base_uri": "https://localhost:8080/",
          "height": 282
        },
        "id": "9VRt8Su5xNTB",
        "outputId": "fffaccbe-ad90-4b2f-f1ca-01a0b7d7667c"
      },
      "source": [
        "plt.plot(his.history['accuracy'])\n",
        "plt.plot(his.history['val_accuracy'])"
      ],
      "execution_count": 7,
      "outputs": [
        {
          "output_type": "execute_result",
          "data": {
            "text/plain": [
              "[<matplotlib.lines.Line2D at 0x7f14fd814110>]"
            ]
          },
          "metadata": {
            "tags": []
          },
          "execution_count": 7
        },
        {
          "output_type": "display_data",
          "data": {
            "image/png": "[encoded data removed]",
            "text/plain": [
              "<Figure size 432x288 with 1 Axes>"
            ]
          },
          "metadata": {
            "tags": [],
            "needs_background": "light"
          }
        }
      ]
    },
    {
      "cell_type": "markdown",
      "metadata": {
        "id": "vCd9Rgtmr6wB"
      },
      "source": [
        "## Постобработка результатов"
      ]
    },
    {
      "cell_type": "code",
      "metadata": {
        "id": "uIRvC9-xWvzr"
      },
      "source": [
        "class Predictor:\n",
        "  def __init__(self):\n",
        "    self.predictions = None\n",
        "  \n",
        "  def get_true_reg(self, df):\n",
        "    self.predictions = self._predict(df)\n",
        "    self.readed = 0\n",
        "    df['result'] = df.apply(lambda row : re.sub(r'[A-Za-zА-Яа-я]+', self._change_reg, row['name']), axis=1)\n",
        "    return df\n",
        "\n",
        "  def _predict(self, df):\n",
        "    matches = []\n",
        "    for line in df['name']:\n",
        "      matches.extend(re.findall(r'[A-Za-zА-Яа-я]+', line))\n",
        "\n",
        "    return np.argmax(model.predict(pipeline.transform(matches)), axis=1)\n",
        "\n",
        "  def _change_reg(self, match):\n",
        "    word = match.group()\n",
        "    reg_index = self.predictions[self.readed]\n",
        "    self.readed += 1\n",
        "    if reg_index == 0:\n",
        "      return word.upper()\n",
        "    elif reg_index == 1:\n",
        "      return word.lower()\n",
        "    elif reg_index == 2:\n",
        "      return word.title()\n",
        "    elif reg_index == 3:\n",
        "      return word"
      ],
      "execution_count": 8,
      "outputs": []
    },
    {
      "cell_type": "markdown",
      "metadata": {
        "id": "acpBQFmVsS3V"
      },
      "source": [
        "## Submition results"
      ]
    },
    {
      "cell_type": "code",
      "metadata": {
        "id": "sDcWHevUcuMI",
        "colab": {
          "base_uri": "https://localhost:8080/"
        },
        "outputId": "7d85892f-25e3-4643-dfcc-d23780de3e79"
      },
      "source": [
        "df_test = pd.read_csv(TEST_DATASET_PATH, sep='\\t', names=['name'], quoting=csv.QUOTE_NONE)\n",
        "pred = Predictor()\n",
        "df_test = pred.get_true_reg(df_test)\n",
        "df_test.to_csv(RESULT_PATH, sep='\\t', columns=['result'], header=False, index=False, quoting=csv.QUOTE_NONE)"
      ],
      "execution_count": 9,
      "outputs": [
        {
          "output_type": "stream",
          "text": [
            "/usr/local/lib/python3.7/dist-packages/ipykernel_launcher.py:39: VisibleDeprecationWarning: Creating an ndarray from ragged nested sequences (which is a list-or-tuple of lists-or-tuples-or ndarrays with different lengths or shapes) is deprecated. If you meant to do this, you must specify 'dtype=object' when creating the ndarray\n"
          ],
          "name": "stderr"
        }
      ]
    },
    {
      "cell_type": "code",
      "metadata": {
        "id": "bxh7hVQvmBhD"
      },
      "source": [
        ""
      ],
      "execution_count": null,
      "outputs": []
    }
  ]
}